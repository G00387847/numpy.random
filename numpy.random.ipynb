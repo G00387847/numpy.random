{
 "cells": [
  {
   "cell_type": "markdown",
   "metadata": {},
   "source": [
    "# Practical Assignment - Programming for Data Analysis 2018\n",
    "By Simona Vasiliauskaite G00263352\n",
    "# Numpy.Random Package"
   ]
  },
  {
   "cell_type": "markdown",
   "metadata": {
    "collapsed": true
   },
   "source": [
    "In this notebook I will answer and discuss following points:\n",
    "1. The purpose of Numpy.Random package\n",
    "2. Explanation of 'Simple random data' and 'Permutations' functions\n",
    "3. Use and purpose of 'Distributions' functions such as uniform, normal, logistic, geometric, exponential and more.\n",
    "4. Why use seeds in generating pseudorandom numbers."
   ]
  },
  {
   "cell_type": "markdown",
   "metadata": {},
   "source": [
    "## 1. Purpose of Numpy.Random package\n",
    "\n",
    "Before diving deep into the numpy.random package, here are some background information on Numpy as a package.\n",
    "It is a Python Package, specialized for building and manipulating large, multidimensional arrays. NumPy has built-in functions for linear alegbra and random number generation. \n",
    "It's an important library because a lot of the other Python packages such as SciPy, Matplotlib depend on Numpy to function (to a reasonable extent.)\n",
    "\n",
    "The numpy.random module supplements the built-in Python random with functions for efficiently generating whole arrays of sample values from many kinds of probability distributions.  Source [Python for Data Analysis by Wes McKinney](https://www.oreilly.com/library/view/python-for-data/9781449323592/ch04.html)\n",
    "\n",
    "\n",
    "Numpy holds some benefits over Python lists, such as: being more compact, faster access in reading and writing items, being more convenient and more efficient."
   ]
  },
  {
   "cell_type": "markdown",
   "metadata": {},
   "source": [
    "**Numpy array** is a powerful N-dimensional array object which is in the form of rows and columns."
   ]
  },
  {
   "cell_type": "code",
   "execution_count": 1,
   "metadata": {
    "collapsed": true
   },
   "outputs": [],
   "source": [
    "import numpy as np \n",
    "import matplotlib.pyplot as plt"
   ]
  },
  {
   "cell_type": "markdown",
   "metadata": {
    "collapsed": true
   },
   "source": [
    "## Types of Arrays"
   ]
  },
  {
   "cell_type": "markdown",
   "metadata": {},
   "source": [
    "**Single-dimensional Numpy Array**"
   ]
  },
  {
   "cell_type": "code",
   "execution_count": 2,
   "metadata": {},
   "outputs": [
    {
     "name": "stdout",
     "output_type": "stream",
     "text": [
      "[1 2 3]\n"
     ]
    }
   ],
   "source": [
    "a=np.array([1,2,3])\n",
    "print(a)"
   ]
  },
  {
   "cell_type": "markdown",
   "metadata": {},
   "source": [
    "**Multi Dimentional Numpy Array**"
   ]
  },
  {
   "cell_type": "code",
   "execution_count": 3,
   "metadata": {},
   "outputs": [
    {
     "name": "stdout",
     "output_type": "stream",
     "text": [
      "[[1 2 3]\n",
      " [4 5 6]]\n"
     ]
    }
   ],
   "source": [
    "a=np.array([(1,2,3),(4,5,6)])\n",
    "print(a)"
   ]
  },
  {
   "cell_type": "markdown",
   "metadata": {
    "collapsed": true
   },
   "source": [
    "## 2. Permutations & Simple Random Data\n",
    "\n",
    "What is permutation?\n",
    "\n",
    "A permutation is a method to calculate the number of events occurring where order matters.\n",
    "\n",
    "Use of Permutations\n",
    "* **permutation(x)**\tRandomly permute a sequence, or return a permuted range.\n",
    "* **shuffle(x)**\tModify a sequence in-place by shuffling its contents."
   ]
  },
  {
   "cell_type": "code",
   "execution_count": 4,
   "metadata": {},
   "outputs": [
    {
     "name": "stdout",
     "output_type": "stream",
     "text": [
      "(1, 2, 3)\n",
      "(1, 3, 2)\n",
      "(2, 1, 3)\n",
      "(2, 3, 1)\n",
      "(3, 1, 2)\n",
      "(3, 2, 1)\n"
     ]
    }
   ],
   "source": [
    "#A Python program to print all permutations using library function \n",
    "from itertools import permutations \n",
    "  \n",
    "# Get all permutations of [1, 2, 3] \n",
    "p = permutations([1, 2, 3]) \n",
    "  \n",
    "# Print the obtained permutations \n",
    "for i in list(p): \n",
    "    print(i) "
   ]
  },
  {
   "cell_type": "markdown",
   "metadata": {},
   "source": [
    "What does Shuffle function do?\n",
    "\n",
    "The method shuffle() randomizes the items of a list in place."
   ]
  },
  {
   "cell_type": "code",
   "execution_count": 5,
   "metadata": {},
   "outputs": [
    {
     "name": "stdout",
     "output_type": "stream",
     "text": [
      "Reshuffled values :  [77, 15, 298, 12]\n"
     ]
    }
   ],
   "source": [
    "#Testing a Python library to shuffle all values\n",
    "from random import shuffle\n",
    "\n",
    "x = [12, 15, 77, 298];\n",
    "\n",
    "# Shuffle and print the outcome\n",
    "shuffle(x)\n",
    "print (\"Reshuffled values : \", x)"
   ]
  },
  {
   "cell_type": "code",
   "execution_count": 6,
   "metadata": {},
   "outputs": [
    {
     "name": "stdout",
     "output_type": "stream",
     "text": [
      "New shuffled name order :  ['Pat', 'Simona', 'Elena', 'Dave']\n"
     ]
    }
   ],
   "source": [
    "# Try the shuffle function with strings\n",
    "\n",
    "names = [\"Simona\", \"Elena\", \"Pat\", \"Dave\"]\n",
    "\n",
    "shuffle(names) # shuffle all strings\n",
    "\n",
    "print (\"New shuffled name order : \", names) # print shuffled strings\n"
   ]
  },
  {
   "cell_type": "markdown",
   "metadata": {},
   "source": [
    "## 3. Examples of Distributions Functions\n",
    "\n",
    "**Uniform**\n",
    "**Normal**\n",
    "**Logistic**\n",
    "**Geometric**\n",
    "**Exponential**\n"
   ]
  },
  {
   "cell_type": "markdown",
   "metadata": {},
   "source": [
    "## 4. How to Generate Pseudorandom Numbers\n",
    "\n",
    "RandomState([seed])\tContainer for the Mersenne Twister pseudo-random number generator.\n",
    "seed([seed])\tSeed the generator.\n",
    "get_state()\tReturn a tuple representing the internal state of the generator.\n",
    "set_state(state)\tSet the internal state of the generator from a tuple.\n",
    "\n",
    "[Docs.SkyPy.org](https://docs.scipy.org/doc/numpy-1.15.1/reference/routines.random.html)\n"
   ]
  },
  {
   "cell_type": "markdown",
   "metadata": {
    "collapsed": true
   },
   "source": [
    "### Import Numpy"
   ]
  },
  {
   "cell_type": "code",
   "execution_count": 7,
   "metadata": {
    "collapsed": true
   },
   "outputs": [],
   "source": [
    "import numpy as np\n",
    "import matplotlib.pyplot as plt"
   ]
  },
  {
   "cell_type": "code",
   "execution_count": 8,
   "metadata": {},
   "outputs": [
    {
     "name": "stdout",
     "output_type": "stream",
     "text": [
      "<class 'numpy.ndarray'>\n"
     ]
    }
   ],
   "source": [
    "a = np.array([1, 2, 3])   # Create a rank 1 array\n",
    "print(type(a))"
   ]
  },
  {
   "cell_type": "code",
   "execution_count": 9,
   "metadata": {},
   "outputs": [
    {
     "name": "stdout",
     "output_type": "stream",
     "text": [
      "(3,)\n"
     ]
    }
   ],
   "source": [
    "print(a.shape)"
   ]
  },
  {
   "cell_type": "code",
   "execution_count": 10,
   "metadata": {},
   "outputs": [
    {
     "name": "stdout",
     "output_type": "stream",
     "text": [
      "1 2 3\n"
     ]
    }
   ],
   "source": [
    "print(a[0], a[1], a[2])"
   ]
  },
  {
   "cell_type": "code",
   "execution_count": 11,
   "metadata": {},
   "outputs": [
    {
     "name": "stdout",
     "output_type": "stream",
     "text": [
      "[5 2 3]\n"
     ]
    }
   ],
   "source": [
    "a[0] = 5                  # Change an element of the array\n",
    "print(a)"
   ]
  },
  {
   "cell_type": "code",
   "execution_count": 12,
   "metadata": {
    "collapsed": true
   },
   "outputs": [],
   "source": [
    "\n",
    "#Useful website for simple examples"
   ]
  },
  {
   "cell_type": "markdown",
   "metadata": {},
   "source": [
    "\n",
    "[URL](http://cs231n.github.io/python-numpy-tutorial/)"
   ]
  },
  {
   "cell_type": "code",
   "execution_count": null,
   "metadata": {
    "collapsed": true
   },
   "outputs": [],
   "source": []
  }
 ],
 "metadata": {
  "kernelspec": {
   "display_name": "Python 3",
   "language": "python",
   "name": "python3"
  },
  "language_info": {
   "codemirror_mode": {
    "name": "ipython",
    "version": 3
   },
   "file_extension": ".py",
   "mimetype": "text/x-python",
   "name": "python",
   "nbconvert_exporter": "python",
   "pygments_lexer": "ipython3",
   "version": "3.6.6"
  }
 },
 "nbformat": 4,
 "nbformat_minor": 2
}
