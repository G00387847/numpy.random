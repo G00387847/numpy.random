{
 "cells": [
  {
   "cell_type": "markdown",
   "metadata": {},
   "source": [
    "# Practical Assignment - Programming for Data Analysis 2018\n",
    "By Simona Vasiliauskaite G00263352\n",
    "# Numpy.Random Package"
   ]
  },
  {
   "cell_type": "markdown",
   "metadata": {
    "collapsed": true
   },
   "source": [
    "In this notebook I will answer and discuss following points:\n",
    "1. The purpose of Numpy.Random package\n",
    "2. Explanation of 'Simple random data' and 'Permutations' functions\n",
    "3. Use and purpose of 'Distributions' functions such as uniform, normal, logistic, geometric, exponential and more.\n",
    "4. Why use seeds in generating pseudorandom numbers."
   ]
  },
  {
   "cell_type": "markdown",
   "metadata": {},
   "source": [
    "## 1. Purpose of Numpy.Random package\n",
    "\n",
    "Before diving deep into the numpy.random package, here are some background information on Numpy as a package.\n",
    "It is a Python Package, specialized for building and manipulating large, multidimensional arrays. NumPy has built-in functions for linear alegbra and random number generation. \n",
    "It's an important library because a lot of the other Python packages such as SciPy, Matplotlib depend on Numpy to function (to a a reasonable extent.)"
   ]
  },
  {
   "cell_type": "markdown",
   "metadata": {
    "collapsed": true
   },
   "source": [
    "## 2. Simple Random Data and Permutations\n",
    "\n",
    "Use of Permutations\n",
    "shuffle(x)\tModify a sequence in-place by shuffling its contents.\n",
    "permutation(x)\tRandomly permute a sequence, or return a permuted range."
   ]
  },
  {
   "cell_type": "markdown",
   "metadata": {},
   "source": [
    "## 3. Examples of Distributions Functions\n",
    "\n",
    "**Uniform**\n",
    "**Normal**\n",
    "**Logistic**\n",
    "**Geometric**\n",
    "**Exponential**\n"
   ]
  },
  {
   "cell_type": "markdown",
   "metadata": {},
   "source": [
    "## 4. How to Generate Pseudorandom Numbers\n",
    "\n",
    "RandomState([seed])\tContainer for the Mersenne Twister pseudo-random number generator.\n",
    "seed([seed])\tSeed the generator.\n",
    "get_state()\tReturn a tuple representing the internal state of the generator.\n",
    "set_state(state)\tSet the internal state of the generator from a tuple.\n",
    "\n",
    "[Docs.SkyPy.org](https://docs.scipy.org/doc/numpy-1.15.1/reference/routines.random.html)\n"
   ]
  },
  {
   "cell_type": "code",
   "execution_count": null,
   "metadata": {
    "collapsed": true
   },
   "outputs": [],
   "source": []
  }
 ],
 "metadata": {
  "kernelspec": {
   "display_name": "Python 3",
   "language": "python",
   "name": "python3"
  },
  "language_info": {
   "codemirror_mode": {
    "name": "ipython",
    "version": 3
   },
   "file_extension": ".py",
   "mimetype": "text/x-python",
   "name": "python",
   "nbconvert_exporter": "python",
   "pygments_lexer": "ipython3",
   "version": "3.6.6"
  }
 },
 "nbformat": 4,
 "nbformat_minor": 2
}
