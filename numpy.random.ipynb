{
 "cells": [
  {
   "cell_type": "markdown",
   "metadata": {},
   "source": [
    "![Logos](https://s3.amazonaws.com/com.twilio.prod.twilio-docs/images/jupyter_python_numpy.width-808.png)"
   ]
  },
  {
   "cell_type": "markdown",
   "metadata": {},
   "source": [
    "# Practical Assignment - Programming for Data Analysis 2018\n",
    "By Simona Vasiliauskaite G00263352\n",
    "\n",
    "\n",
    "\n",
    "# Numpy.Random Package"
   ]
  },
  {
   "cell_type": "markdown",
   "metadata": {
    "collapsed": true
   },
   "source": [
    "In this notebook I will answer and discuss following points:\n",
    "1. The purpose of Numpy.Random package\n",
    "2. Explanation of 'Simple random data' and 'Permutations' functions\n",
    "3. Use and purpose of 'Distributions' functions such as uniform, normal, logistic, geometric, exponential and more.\n",
    "4. Why use seeds in generating pseudorandom numbers."
   ]
  },
  {
   "cell_type": "markdown",
   "metadata": {},
   "source": [
    "## 1. Purpose of Numpy.Random package\n",
    "\n",
    "Before diving deep into the numpy.random package, here is some background information on Numpy as a package.\n",
    "It is a Python Package, specialized for building and manipulating large, multidimensional arrays. NumPy has built-in functions for linear alegbra and random number generation. \n",
    "It's an important library because a lot of the other Python packages such as SciPy, Matplotlib depend on Numpy to function (to a reasonable extent.)\n",
    "\n",
    "The numpy.random module supplements the built-in Python random with functions for efficiently generating whole arrays of sample values from many kinds of probability distributions.  Source [Python for Data Analysis by Wes McKinney](https://www.oreilly.com/library/view/python-for-data/9781449323592/ch04.html)\n",
    "\n",
    "\n",
    "Numpy holds some benefits over Python lists, such as: being more compact, faster access in reading and writing items, being more convenient and more efficient."
   ]
  },
  {
   "cell_type": "markdown",
   "metadata": {},
   "source": [
    "**Numpy array** is a powerful N-dimensional array object which is in the form of rows and columns."
   ]
  },
  {
   "cell_type": "code",
   "execution_count": 10,
   "metadata": {},
   "outputs": [],
   "source": [
    "# Import Numpy library \n",
    "import numpy as np \n",
    "import matplotlib.pyplot as plt\n",
    "%matplotlib inline "
   ]
  },
  {
   "cell_type": "markdown",
   "metadata": {
    "collapsed": true
   },
   "source": [
    "## 1.1 Types of Arrays"
   ]
  },
  {
   "cell_type": "markdown",
   "metadata": {},
   "source": [
    "**Single-dimensional Numpy Array**"
   ]
  },
  {
   "cell_type": "code",
   "execution_count": 2,
   "metadata": {},
   "outputs": [
    {
     "name": "stdout",
     "output_type": "stream",
     "text": [
      "[1 2 3]\n"
     ]
    }
   ],
   "source": [
    "a=np.array([1,2,3])\n",
    "print(a)"
   ]
  },
  {
   "cell_type": "markdown",
   "metadata": {},
   "source": [
    "**Multi Dimentional Numpy Array**"
   ]
  },
  {
   "cell_type": "code",
   "execution_count": 3,
   "metadata": {},
   "outputs": [
    {
     "name": "stdout",
     "output_type": "stream",
     "text": [
      "[[1 2 3]\n",
      " [4 5 6]]\n"
     ]
    }
   ],
   "source": [
    "a=np.array([(1,2,3),(4,5,6)])\n",
    "print(a)"
   ]
  },
  {
   "cell_type": "markdown",
   "metadata": {
    "collapsed": true
   },
   "source": [
    "## 2. Permutations & Simple Random Data\n",
    "\n",
    "## 2.1\n",
    "#### What is permutation?\n",
    "\n",
    "A permutation is a method to calculate the number of events occurring where order matters.\n",
    "\n",
    "Use of Permutations\n",
    "* **permutation(x)**\tRandomly permute a sequence, or return a permuted range.\n",
    "* **shuffle(x)**\tModify a sequence in-place by shuffling its contents."
   ]
  },
  {
   "cell_type": "code",
   "execution_count": 4,
   "metadata": {},
   "outputs": [
    {
     "name": "stdout",
     "output_type": "stream",
     "text": [
      "(1, 2, 3)\n",
      "(1, 3, 2)\n",
      "(2, 1, 3)\n",
      "(2, 3, 1)\n",
      "(3, 1, 2)\n",
      "(3, 2, 1)\n"
     ]
    }
   ],
   "source": [
    "# A Python program to print all permutations using library function itertools\n",
    "from itertools import permutations \n",
    "  \n",
    "# Get all permutations of [1, 2, 3] \n",
    "p = permutations([1, 2, 3]) \n",
    "  \n",
    "# Print the obtained permutations \n",
    "for i in list(p): \n",
    "    print(i) "
   ]
  },
  {
   "cell_type": "markdown",
   "metadata": {},
   "source": [
    "#### What does Shuffle function do?\n",
    "\n",
    "The method shuffle() randomizes the items of a list in place."
   ]
  },
  {
   "cell_type": "code",
   "execution_count": 5,
   "metadata": {},
   "outputs": [
    {
     "name": "stdout",
     "output_type": "stream",
     "text": [
      "Reshuffled values :  [77, 12, 298, 15]\n"
     ]
    }
   ],
   "source": [
    "# Testing a Python library to shuffle all values\n",
    "from random import shuffle\n",
    "\n",
    "x = [12, 15, 77, 298];\n",
    "\n",
    "# Shuffle and print the outcome\n",
    "shuffle(x)\n",
    "print (\"Reshuffled values : \", x)"
   ]
  },
  {
   "cell_type": "code",
   "execution_count": 6,
   "metadata": {},
   "outputs": [
    {
     "name": "stdout",
     "output_type": "stream",
     "text": [
      "New shuffled name order :  ['Dave', 'Simona', 'Elena', 'Pat']\n"
     ]
    }
   ],
   "source": [
    "# Testing shuffle function with strings\n",
    "\n",
    "names = [\"Simona\", \"Elena\", \"Pat\", \"Dave\"]\n",
    "\n",
    "shuffle(names) # shuffle all strings\n",
    "\n",
    "print (\"New shuffled name order : \", names) # print shuffled strings\n"
   ]
  },
  {
   "cell_type": "markdown",
   "metadata": {},
   "source": [
    "## 2.2 \n",
    "\n",
    "#### Sample Random Data"
   ]
  },
  {
   "cell_type": "code",
   "execution_count": 12,
   "metadata": {
    "collapsed": true
   },
   "outputs": [],
   "source": [
    "# Import random function\n",
    "import random"
   ]
  },
  {
   "cell_type": "code",
   "execution_count": 13,
   "metadata": {},
   "outputs": [
    {
     "name": "stdout",
     "output_type": "stream",
     "text": [
      "4\n"
     ]
    }
   ],
   "source": [
    "from random import randint\n",
    "print(randint(0, 9))"
   ]
  },
  {
   "cell_type": "markdown",
   "metadata": {},
   "source": [
    "**random.sample**\n",
    "\n",
    "sample() is an inbuilt function of random module in Python that returns a particular length list of items chosen from the sequence i.e. list, tuple, string or set. Used for random sampling without replacement."
   ]
  },
  {
   "cell_type": "code",
   "execution_count": 14,
   "metadata": {},
   "outputs": [
    {
     "name": "stdout",
     "output_type": "stream",
     "text": [
      "With list: [7, 11, 8]\n",
      "With string: ['r', 'e', 'u', 'p']\n",
      "With tuple: ['work', 'college']\n",
      "With set: ['a', 'd', 'b']\n"
     ]
    }
   ],
   "source": [
    "\n",
    "# Print list of random items of length 3 from the given list. \n",
    "list1 = [5, 6, 7, 8, 9, 11]\n",
    "print(\"With list:\", random.sample(list1, 3)) \n",
    "  \n",
    "# Print list of random items of length 4 from the given string.  \n",
    "string = \"Computer\"\n",
    "print(\"With string:\", random.sample(string, 4)) \n",
    "  \n",
    "# Print list of random items of length 2 from the given tuple. \n",
    "tuple1 = (\"college\" , \"work\" , \"pc\" , \"study\" , \"science\") \n",
    "print(\"With tuple:\", random.sample(tuple1, 2)) \n",
    "   \n",
    "# Print list of random items of length 3 from the given set. \n",
    "set1 = {\"a\", \"b\", \"c\", \"d\", \"e\"} \n",
    "print(\"With set:\", random.sample(set1, 3)) "
   ]
  },
  {
   "cell_type": "markdown",
   "metadata": {},
   "source": [
    "**random.randint**"
   ]
  },
  {
   "cell_type": "markdown",
   "metadata": {},
   "source": [
    "Return a random element from the non-empty sequence seq. If seq is empty, raises IndexError.\n",
    "\n",
    "Randint accepts two parameters: a lowest and a highest number."
   ]
  },
  {
   "cell_type": "code",
   "execution_count": 15,
   "metadata": {},
   "outputs": [
    {
     "name": "stdout",
     "output_type": "stream",
     "text": [
      "2\n"
     ]
    }
   ],
   "source": [
    "# Generate integers between 1,5\n",
    "\n",
    "a = random.randint(0, 5)\n",
    "print(a)"
   ]
  },
  {
   "cell_type": "markdown",
   "metadata": {},
   "source": [
    "**random.choice**"
   ]
  },
  {
   "cell_type": "code",
   "execution_count": 22,
   "metadata": {
    "scrolled": true
   },
   "outputs": [
    {
     "name": "stdout",
     "output_type": "stream",
     "text": [
      "Random choice: a\n"
     ]
    }
   ],
   "source": [
    "# Generate a random sample from a given 1-D array\n",
    "\n",
    "letters = ['a', 'b', 'c', 'd', 'e']\n",
    "print(\"Random choice:\", random.choice(letters)) # Print generated random sample"
   ]
  },
  {
   "cell_type": "markdown",
   "metadata": {},
   "source": [
    "## 3. Examples of Distributions Functions\n",
    "\n",
    "Probability distributions are a fundamental concept in statistics. They are used both on a theoretical level and a practical level.\n",
    "\n",
    "## 3.1\n",
    "\n",
    "**Common Data Types**\n",
    "\n",
    "The data can be discrete or continuous.\n",
    "\n",
    "* Discrete Data can take only specified values.\n",
    "\n",
    "* Continuous Data can take any value within a given range. The range may be finite or infinite.\n",
    "\n",
    "Below is a graph of some of the common distributions and the arrows inidicate that some are very similar and relate to each other. \n",
    "\n",
    "I will now compare some common distributions and their relationships with one another.\n",
    "\n",
    "\n",
    "![Distribution Chart](https://www.johndcook.com/distribution_chart.gif) [Source](https://www.johndcook.com)\n"
   ]
  },
  {
   "cell_type": "markdown",
   "metadata": {
    "collapsed": true
   },
   "source": [
    "I also found this graph below very interesting and I will try to compare my analysis of these distribution relationships to what this graph suggests and draw a conclusion. \n",
    "\n",
    "![DistributionProbabilityGraph](https://analyticsbuddhu.files.wordpress.com/2017/02/overview-prob-distr.png)\n",
    "\n",
    "[Source](https://analyticsbuddhu.com/2017/02/26/how-many-types-of-continuous-probability-distribution/)"
   ]
  },
  {
   "cell_type": "code",
   "execution_count": null,
   "metadata": {
    "collapsed": true
   },
   "outputs": [],
   "source": []
  },
  {
   "cell_type": "code",
   "execution_count": null,
   "metadata": {
    "collapsed": true
   },
   "outputs": [],
   "source": []
  },
  {
   "cell_type": "code",
   "execution_count": null,
   "metadata": {
    "collapsed": true
   },
   "outputs": [],
   "source": []
  },
  {
   "cell_type": "code",
   "execution_count": null,
   "metadata": {
    "collapsed": true
   },
   "outputs": [],
   "source": []
  },
  {
   "cell_type": "code",
   "execution_count": null,
   "metadata": {
    "collapsed": true
   },
   "outputs": [],
   "source": []
  },
  {
   "cell_type": "markdown",
   "metadata": {},
   "source": [
    "## 4. Use of Seed\n",
    "\n",
    "Random number generation (RNG) is the process by which a string of random numbers may be drawn. The numbers are not completely random for several reasons.\n",
    "\n",
    "1. They are drawn from a probability distribution. The most common one is the uniform distribution on the domain  0≤x<1 , i.e., random numbers between zero and one. \n",
    "\n",
    "2. In most computer applications, the random numbers are actually pseudorandom. They depend entirely on an input seed and are then generated by a deterministic algorithm from that seed. [Source](http://justinbois.github.io/bootcamp/2016/lessons/l26_random_number_generation.html)\n"
   ]
  },
  {
   "cell_type": "markdown",
   "metadata": {},
   "source": [
    "To demonstrate that random number generation is deterministic, we will explicitly seed the random number generator"
   ]
  },
  {
   "cell_type": "code",
   "execution_count": 12,
   "metadata": {},
   "outputs": [
    {
     "data": {
      "text/plain": [
       "array([ 0.87012414,  0.58227693,  0.27883894,  0.18591123,  0.41110013])"
      ]
     },
     "execution_count": 12,
     "metadata": {},
     "output_type": "execute_result"
    }
   ],
   "source": [
    "# Seed the RNG\n",
    "np.random.seed(25)\n",
    "\n",
    "# Generate random numbers\n",
    "np.random.random(size=5)"
   ]
  },
  {
   "cell_type": "code",
   "execution_count": 13,
   "metadata": {},
   "outputs": [
    {
     "data": {
      "text/plain": [
       "array([ 0.87012414,  0.58227693,  0.27883894,  0.18591123,  0.41110013])"
      ]
     },
     "execution_count": 13,
     "metadata": {},
     "output_type": "execute_result"
    }
   ],
   "source": [
    "# Re-seed the RNG\n",
    "np.random.seed(25)\n",
    "\n",
    "# Generate random numbers\n",
    "np.random.random(size=5)"
   ]
  },
  {
   "cell_type": "markdown",
   "metadata": {},
   "source": [
    "The random numbers are exactly the same. If we choose a different seed, we get totally different random numbers."
   ]
  },
  {
   "cell_type": "markdown",
   "metadata": {
    "collapsed": true
   },
   "source": [
    "### Import Numpy"
   ]
  },
  {
   "cell_type": "code",
   "execution_count": 14,
   "metadata": {
    "collapsed": true
   },
   "outputs": [],
   "source": [
    "import numpy as np\n",
    "import matplotlib.pyplot as plt"
   ]
  },
  {
   "cell_type": "code",
   "execution_count": 15,
   "metadata": {},
   "outputs": [
    {
     "name": "stdout",
     "output_type": "stream",
     "text": [
      "<class 'numpy.ndarray'>\n"
     ]
    }
   ],
   "source": [
    "a = np.array([1, 2, 3])   # Create a rank 1 array\n",
    "print(type(a))"
   ]
  },
  {
   "cell_type": "code",
   "execution_count": 16,
   "metadata": {},
   "outputs": [
    {
     "name": "stdout",
     "output_type": "stream",
     "text": [
      "(3,)\n"
     ]
    }
   ],
   "source": [
    "print(a.shape)"
   ]
  },
  {
   "cell_type": "code",
   "execution_count": 17,
   "metadata": {},
   "outputs": [
    {
     "name": "stdout",
     "output_type": "stream",
     "text": [
      "1 2 3\n"
     ]
    }
   ],
   "source": [
    "print(a[0], a[1], a[2])"
   ]
  },
  {
   "cell_type": "code",
   "execution_count": 18,
   "metadata": {},
   "outputs": [
    {
     "name": "stdout",
     "output_type": "stream",
     "text": [
      "[5 2 3]\n"
     ]
    }
   ],
   "source": [
    "a[0] = 5                  # Change an element of the array\n",
    "print(a)"
   ]
  },
  {
   "cell_type": "code",
   "execution_count": 19,
   "metadata": {
    "collapsed": true
   },
   "outputs": [],
   "source": [
    "\n",
    "#Useful website for simple examples"
   ]
  },
  {
   "cell_type": "markdown",
   "metadata": {},
   "source": [
    "\n",
    "[URL](http://cs231n.github.io/python-numpy-tutorial/)"
   ]
  },
  {
   "cell_type": "code",
   "execution_count": null,
   "metadata": {
    "collapsed": true
   },
   "outputs": [],
   "source": []
  }
 ],
 "metadata": {
  "kernelspec": {
   "display_name": "Python 3",
   "language": "python",
   "name": "python3"
  },
  "language_info": {
   "codemirror_mode": {
    "name": "ipython",
    "version": 3
   },
   "file_extension": ".py",
   "mimetype": "text/x-python",
   "name": "python",
   "nbconvert_exporter": "python",
   "pygments_lexer": "ipython3",
   "version": "3.6.6"
  }
 },
 "nbformat": 4,
 "nbformat_minor": 2
}
