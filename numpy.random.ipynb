{
 "cells": [
  {
   "cell_type": "markdown",
   "metadata": {},
   "source": [
    "![Logos](https://s3.amazonaws.com/com.twilio.prod.twilio-docs/images/jupyter_python_numpy.width-808.png)"
   ]
  },
  {
   "cell_type": "markdown",
   "metadata": {},
   "source": [
    "# Practical Assignment - Programming for Data Analysis 2018\n",
    "By Simona Vasiliauskaite G00263352\n",
    "\n",
    "\n",
    "\n",
    "# Numpy.Random Package"
   ]
  },
  {
   "cell_type": "markdown",
   "metadata": {
    "collapsed": true
   },
   "source": [
    "In this notebook I will answer and discuss following points:\n",
    "1. The purpose of Numpy.Random package\n",
    "2. Explanation of 'Simple random data' and 'Permutations' functions\n",
    "3. Use and purpose of 'Distributions' functions such as uniform, normal, logistic, geometric, exponential and more.\n",
    "4. Why use seeds in generating pseudorandom numbers."
   ]
  },
  {
   "cell_type": "markdown",
   "metadata": {},
   "source": [
    "## 1. Purpose of Numpy.Random package\n",
    "\n",
    "Before diving deep into the numpy.random package, here is some background information on Numpy as a package.\n",
    "\n",
    "It is a Python Package, specialized for building and manipulating large, multidimensional arrays. NumPy has built-in functions for linear alegbra and random number generation. \n",
    "It's an important library because a lot of the other Python packages such as SciPy, Matplotlib depend on Numpy to function (to a reasonable extent.)\n",
    "\n",
    "The numpy.random module supplements the built-in Python random with functions for efficiently generating whole arrays of sample values from many kinds of probability distributions.  Source [Python for Data Analysis by Wes McKinney](https://www.oreilly.com/library/view/python-for-data/9781449323592/ch04.html)\n",
    "\n",
    "\n",
    "Numpy has some benefits over Python lists such as: being more compact, faster access in reading and writing items, being more convenient and more efficient."
   ]
  },
  {
   "cell_type": "markdown",
   "metadata": {},
   "source": [
    "**Numpy array** is a powerful N-dimensional array object which is in the form of rows and columns."
   ]
  },
  {
   "cell_type": "code",
   "execution_count": 1,
   "metadata": {
    "collapsed": true
   },
   "outputs": [],
   "source": [
    "# Import libraries\n",
    "\n",
    "import numpy as np \n",
    "import matplotlib.pyplot as plt\n",
    "import pandas as pd\n",
    "import seaborn as sns\n",
    "from matplotlib.ticker import FuncFormatter\n",
    "\n",
    "%matplotlib inline "
   ]
  },
  {
   "cell_type": "markdown",
   "metadata": {
    "collapsed": true
   },
   "source": [
    "## 1.1 Types of Arrays"
   ]
  },
  {
   "cell_type": "markdown",
   "metadata": {},
   "source": [
    "**Single-dimensional Numpy Array**"
   ]
  },
  {
   "cell_type": "code",
   "execution_count": 2,
   "metadata": {},
   "outputs": [
    {
     "name": "stdout",
     "output_type": "stream",
     "text": [
      "[1 2 3]\n"
     ]
    }
   ],
   "source": [
    "a=np.array([1,2,3])\n",
    "print(a)"
   ]
  },
  {
   "cell_type": "markdown",
   "metadata": {},
   "source": [
    "**Multi Dimentional Numpy Array**"
   ]
  },
  {
   "cell_type": "code",
   "execution_count": 3,
   "metadata": {},
   "outputs": [
    {
     "name": "stdout",
     "output_type": "stream",
     "text": [
      "[[1 2 3]\n",
      " [4 5 6]]\n"
     ]
    }
   ],
   "source": [
    "a=np.array([(1,2,3),(4,5,6)])\n",
    "print(a)"
   ]
  },
  {
   "cell_type": "markdown",
   "metadata": {
    "collapsed": true
   },
   "source": [
    "## 2. Permutations & Simple Random Data\n",
    "\n",
    "#### 2.1 What is permutation?\n",
    "\n",
    "A permutation is a method to calculate the number of events occurring where order matters.\n",
    "\n",
    "Use of Permutations\n",
    "* **permutation(x)**\tRandomly permute a sequence, or return a permuted range.\n",
    "* **shuffle(x)**\tModify a sequence in-place by shuffling its contents."
   ]
  },
  {
   "cell_type": "code",
   "execution_count": 4,
   "metadata": {},
   "outputs": [
    {
     "name": "stdout",
     "output_type": "stream",
     "text": [
      "(1, 2, 3)\n",
      "(1, 3, 2)\n",
      "(2, 1, 3)\n",
      "(2, 3, 1)\n",
      "(3, 1, 2)\n",
      "(3, 2, 1)\n"
     ]
    }
   ],
   "source": [
    "# Import a Python module to print permutations\n",
    "from itertools import permutations \n",
    "  \n",
    "# Get all permutations of [1, 2, 3] \n",
    "p = permutations([1, 2, 3]) \n",
    "  \n",
    "# Print the permutations \n",
    "for i in list(p): \n",
    "    \n",
    "    print(i) "
   ]
  },
  {
   "cell_type": "markdown",
   "metadata": {},
   "source": [
    "I can see from example above that the outcome of obtained result did in fact come out in an order."
   ]
  },
  {
   "cell_type": "markdown",
   "metadata": {},
   "source": [
    "#### 2.2 What does Shuffle function do?\n",
    "\n",
    "The method shuffle() randomizes the items of a list in place."
   ]
  },
  {
   "cell_type": "code",
   "execution_count": 5,
   "metadata": {},
   "outputs": [
    {
     "name": "stdout",
     "output_type": "stream",
     "text": [
      "Reshuffled values :  [298, 15, 77, 12]\n"
     ]
    }
   ],
   "source": [
    "# Testing a Python library to shuffle all values\n",
    "from random import shuffle\n",
    "\n",
    "x = [12, 15, 77, 298];\n",
    "\n",
    "# Shuffle and print the outcome\n",
    "shuffle(x)\n",
    "\n",
    "print (\"Reshuffled values : \", x)"
   ]
  },
  {
   "cell_type": "code",
   "execution_count": 6,
   "metadata": {},
   "outputs": [
    {
     "name": "stdout",
     "output_type": "stream",
     "text": [
      "New shuffled name order :  ['Simona', 'Pat', 'Elena', 'Dave']\n"
     ]
    }
   ],
   "source": [
    "# Testing shuffle function with strings\n",
    "names = [\"Simona\", \"Elena\", \"Pat\", \"Dave\"]\n",
    "\n",
    "shuffle(names) # Shuffle all strings\n",
    "\n",
    "print (\"New shuffled name order : \", names) # Print shuffled strings\n"
   ]
  },
  {
   "cell_type": "markdown",
   "metadata": {},
   "source": [
    "#### 2.3 Sample Random Data"
   ]
  },
  {
   "cell_type": "code",
   "execution_count": 7,
   "metadata": {
    "collapsed": true
   },
   "outputs": [],
   "source": [
    "# Import random function\n",
    "import random"
   ]
  },
  {
   "cell_type": "markdown",
   "metadata": {},
   "source": [
    "**random.sample**\n",
    "\n",
    "sample() is an inbuilt function of random module in Python that returns a particular length list of items chosen from the sequence i.e. list, tuple, string or set. Used for random sampling without replacement.\n",
    "Below I will test a few types of sequences and see what outcome the function returns."
   ]
  },
  {
   "cell_type": "code",
   "execution_count": 8,
   "metadata": {},
   "outputs": [
    {
     "name": "stdout",
     "output_type": "stream",
     "text": [
      "With list: [5, 8, 11]\n",
      "With string: ['m', 't', 'u', 'e']\n",
      "With tuple: ['science', 'college']\n",
      "With set: ['d', 'e', 'b']\n"
     ]
    }
   ],
   "source": [
    "# Print list of random items of length 3 from the given list. \n",
    "list1 = [5, 6, 7, 8, 9, 11]\n",
    "\n",
    "print(\"With list:\", random.sample(list1, 3)) \n",
    "  \n",
    "# Print list of random items of length 4 from the given string.  \n",
    "string = \"Computer\"\n",
    "\n",
    "print(\"With string:\", random.sample(string, 4)) \n",
    "  \n",
    "# Print list of random items of length 2 from the given tuple. \n",
    "tuple1 = (\"college\" , \"work\" , \"pc\" , \"study\" , \"science\") \n",
    "\n",
    "print(\"With tuple:\", random.sample(tuple1, 2)) \n",
    "   \n",
    "# Print list of random items of length 3 from the given set. \n",
    "set1 = {\"a\", \"b\", \"c\", \"d\", \"e\"} \n",
    "\n",
    "print(\"With set:\", random.sample(set1, 3)) "
   ]
  },
  {
   "cell_type": "markdown",
   "metadata": {},
   "source": [
    "**random.randint**\n",
    "\n",
    "Returns a random element from the non-empty sequence seq. If seq is empty, raises IndexError.\n",
    "\n",
    "Randint accepts two parameters: a lowest and a highest number."
   ]
  },
  {
   "cell_type": "code",
   "execution_count": 9,
   "metadata": {},
   "outputs": [
    {
     "name": "stdout",
     "output_type": "stream",
     "text": [
      "4\n"
     ]
    }
   ],
   "source": [
    "from random import randint\n",
    "\n",
    "# Generate integers between 1,5\n",
    "a = random.randint(0, 5)\n",
    "\n",
    "print(a)"
   ]
  },
  {
   "cell_type": "markdown",
   "metadata": {},
   "source": [
    "**random.choice**"
   ]
  },
  {
   "cell_type": "code",
   "execution_count": 10,
   "metadata": {
    "scrolled": true
   },
   "outputs": [
    {
     "name": "stdout",
     "output_type": "stream",
     "text": [
      "Random choice: d\n"
     ]
    }
   ],
   "source": [
    "# Generate a random sample from a 1-D array\n",
    "letters = ['a', 'b', 'c', 'd', 'e']\n",
    "\n",
    "print(\"Random choice:\", random.choice(letters)) # Print generated random sample"
   ]
  },
  {
   "cell_type": "markdown",
   "metadata": {},
   "source": [
    "## 3. Probability Distributions  & Their Relationships\n",
    "\n",
    "Probability distributions are a fundamental concept in statistics. They are used both on a theoretical level and a practical level.\n",
    "\n",
    "#### 3.1 Common Data Types\n",
    "\n",
    "The data can be discrete or continuous.\n",
    "\n",
    "* Discrete Data can take only specified values.\n",
    "\n",
    "Discrete probability functions are also known as probability mass functions and can assume a discrete number of values. For example, coin tosses and counts of events are discrete functions. These are discrete distributions because there are no in-between values. [Source](http://statisticsbyjim.com/basics/probability-distributions/)\n",
    "\n",
    "* Continuous Data can take any value within a given range. The range may be finite or infinite.\n",
    "\n",
    "Continuous probability functions are also known as probability density functions. You know that you have a continuous distribution if the variable can assume an infinite number of values between any two values. Continuous variables are often measurements on a scale, such as height, weight, and temperature. [Source](http://statisticsbyjim.com/basics/probability-distributions/)\n",
    "\n",
    "Probabilities for continuous distributions are measured over ranges of values rather than single points. A probability indicates the likelihood that a value will fall within an interval.\n",
    "\n",
    "#### 3.2 Density Functions\n",
    "\n",
    "Distributions are often described in terms of their density or density functions.\n",
    "\n",
    "Density functions are functions that describe how the proportion of data or likelihood of the proportion of observations change over the range of the distribution.\n",
    "\n",
    "Two types of density functions are *probability density functions* and *cumulative density functions.*\n",
    "\n",
    "* Probability Density function: calculates the probability of observing a given value.\n",
    "* Cumulative Density function: calculates the probability of an observation equal or less than a value. [Source](https://machinelearningmastery.com/statistical-data-distributions/)\n",
    "\n",
    "Below is a graph of some of the common distributions and the arrows inidicate that some are very similar and relate to each other. \n",
    "\n",
    "I will now compare some common distributions and their relationships with one another.\n",
    "\n",
    "\n",
    "![Distribution Chart](https://www.johndcook.com/distribution_chart.gif) [Source](https://www.johndcook.com)\n"
   ]
  },
  {
   "cell_type": "markdown",
   "metadata": {
    "collapsed": true
   },
   "source": [
    "I also found this graph below very interesting as it shows similarities between some common distributions and I will try to compare my analysis of these distribution relationships to what this graph suggests and draw a conclusion. \n",
    "\n",
    "![DistributionProbabilityGraph](https://analyticsbuddhu.files.wordpress.com/2017/02/overview-prob-distr.png)\n",
    "\n",
    "[Source](https://analyticsbuddhu.com/2017/02/26/how-many-types-of-continuous-probability-distribution/)"
   ]
  },
  {
   "cell_type": "markdown",
   "metadata": {},
   "source": [
    "### 3.3 Discrete Distributions"
   ]
  },
  {
   "cell_type": "markdown",
   "metadata": {},
   "source": [
    "* Poisson\n",
    "\n",
    "**Poisson distribution** shows number of times an event occurs in fixed time interval. It is a binomial approximated distribution which occurs when number of trials (n) becomes sufficiently large and probability of success (p) successively becomes small."
   ]
  },
  {
   "cell_type": "code",
   "execution_count": 11,
   "metadata": {},
   "outputs": [
    {
     "data": {
      "image/png": "[encoded data removed]",
      "text/plain": [
       "<matplotlib.figure.Figure at 0x1fae83739e8>"
      ]
     },
     "metadata": {},
     "output_type": "display_data"
    }
   ],
   "source": [
    "#Intializing the parameters for Poisson distribution\n",
    "\n",
    "s = np.random.poisson(5, 10000) # Drawn samples from the parameterized Poisson distribution\n",
    "\n",
    "count, bins, ignored = plt.hist(s, 14, density=True, facecolor='green', alpha=0.5)\n",
    "plt.title('Poisson Distribution')\n",
    "plt.ylabel(\"Frequency\")\n",
    "plt.show() # Display histogram of the sample"
   ]
  },
  {
   "cell_type": "markdown",
   "metadata": {},
   "source": [
    "* Binomial\n",
    "\n",
    "A **binomial distribution** is simply the probability of a success or failure outcome in an experiment that is repeated multiple times. "
   ]
  },
  {
   "cell_type": "code",
   "execution_count": 18,
   "metadata": {},
   "outputs": [
    {
     "data": {
      "image/png": "[encoded data removed]",
      "text/plain": [
       "<matplotlib.figure.Figure at 0x1fae85a40f0>"
      ]
     },
     "metadata": {},
     "output_type": "display_data"
    }
   ],
   "source": [
    "#Initializing the parameters 'number of trials' and 'probability of success'\n",
    "\n",
    "n, p = 17, 0.7  # number of trials, probability of each trial\n",
    "s = np.random.binomial(n, p, 1000)\n",
    "count, bins, ignored = plt.hist(s, 14, density=True, facecolor='pink', alpha=0.77)\n",
    "plt.title('Binomial Distribution')\n",
    "plt.ylabel(\"Frequency\")\n",
    "plt.show() # Display histogram of the sample\n"
   ]
  },
  {
   "cell_type": "markdown",
   "metadata": {},
   "source": [
    "Similarities & differences between Binominal & Poisson Distributions\n",
    "\n",
    "\n",
    "* Binomial Distribution is biparametric, i.e. it is featured by two parameters n and p whereas Poisson distribution is uniparametric, i.e. characterised by a single parameter m.\n",
    "* There are a fixed number of attempts in the binomial distribution. On the other hand, an unlimited number of trials are there in a poisson distribution.\n",
    "* The success probability is constant in binomial distribution but in poisson distribution, there are an extremely small number of success chances.\n",
    "* In a binomial distribution, there are only two possible outcomes, i.e. success or failure. Conversely, there are an unlimited number of possible outcomes in the case of poisson distribution. [Source](https://keydifferences.com/difference-between-binomial-and-poisson-distribution.html)\n"
   ]
  },
  {
   "cell_type": "markdown",
   "metadata": {},
   "source": [
    "### 3.3 Continuous Distribution"
   ]
  },
  {
   "cell_type": "markdown",
   "metadata": {},
   "source": [
    "* Uniform\n",
    "\n",
    "The probability associated with each data points within a fixed interval is equal."
   ]
  },
  {
   "cell_type": "code",
   "execution_count": 19,
   "metadata": {},
   "outputs": [
    {
     "data": {
      "image/png": "[encoded data removed]",
      "text/plain": [
       "<matplotlib.figure.Figure at 0x1fae885c5f8>"
      ]
     },
     "metadata": {},
     "output_type": "display_data"
    }
   ],
   "source": [
    "# Here parameters a and b has been assigned the values 1 and 6\n",
    "\n",
    "s = np.random.uniform(1, 6, 500000)\n",
    "count, bins, ignored = plt.hist(s, 14, density=True, facecolor='yellow', alpha=0.77)\n",
    "plt.title('Uniform Continuous Distribution')\n",
    "plt.ylabel(\"Frequency\")\n",
    "plt.show() # Display histogram of the sample"
   ]
  },
  {
   "cell_type": "markdown",
   "metadata": {},
   "source": [
    "* Normal"
   ]
  },
  {
   "cell_type": "markdown",
   "metadata": {},
   "source": [
    "The probability density function of the normal distribution is often called the bell curve because of its characteristic shape. It can take on values anywhere on the real line."
   ]
  },
  {
   "cell_type": "code",
   "execution_count": 14,
   "metadata": {},
   "outputs": [
    {
     "data": {
      "image/png": "[encoded data removed]",
      "text/plain": [
       "<matplotlib.figure.Figure at 0x1fae882e748>"
      ]
     },
     "metadata": {},
     "output_type": "display_data"
    }
   ],
   "source": [
    "mu, sigma = 0, 0.1 # mean and standard deviation\n",
    "s = np.random.normal(mu, sigma, 1000)\n",
    "abs(mu - np.mean(s)) < 0.01\n",
    "abs(sigma - np.std(s, ddof=1)) < 0.01\n",
    "\n",
    "\n",
    "count, bins, ignored = plt.hist(s, 30, density=True, facecolor=\"grey\")\n",
    "plt.plot(bins, 1/(sigma * np.sqrt(2 * np.pi)) *\n",
    "               np.exp( - (bins - mu)**2 / (2 * sigma**2) ),\n",
    "         linewidth=2, color='r')\n",
    "plt.title(\"Normal Distribution\")\n",
    "plt.show()"
   ]
  },
  {
   "cell_type": "markdown",
   "metadata": {},
   "source": [
    "* Gamma\n",
    "\n",
    "Gamma distribution is a right skewed distribution used for continuous variables. This is due to its flexibility in the choice of the shape and scale parameters. The scale parameter determines where the bulk of the observations lies and the shape parameter determines how the distribution will look."
   ]
  },
  {
   "cell_type": "code",
   "execution_count": 15,
   "metadata": {},
   "outputs": [
    {
     "data": {
      "image/png": "[encoded data removed]",
      "text/plain": [
       "<matplotlib.figure.Figure at 0x1fae1b80400>"
      ]
     },
     "metadata": {},
     "output_type": "display_data"
    },
    {
     "name": "stdout",
     "output_type": "stream",
     "text": [
      "2.01289729592 4.04944107082\n"
     ]
    }
   ],
   "source": [
    "#Initializing the parameters for Gamma distribution\n",
    "shape, scale = 1, 2.\n",
    "s = np.random.gamma(shape, scale, 50000)\n",
    "\n",
    "count, bins, ignored = plt.hist(s, density=True, facecolor='pink')\n",
    "plt.title('Gamma Distribution')\n",
    "plt.ylabel(\"Frequency\")\n",
    "plt.show() # Display histogram of the sample\n",
    "\n",
    "print(np.mean(s), np.var(s))\n"
   ]
  },
  {
   "cell_type": "markdown",
   "metadata": {},
   "source": [
    "## 4. Use of Seed\n",
    "\n",
    "Random number generation (RNG) is the process by which a string of random numbers may be drawn. The numbers are not completely random for several reasons.\n",
    "\n",
    "1. They are drawn from a probability distribution. The most common one is the uniform distribution on the domain  0≤x<1 , i.e., random numbers between zero and one. \n",
    "\n",
    "2. In most computer applications, the random numbers are actually pseudorandom. They depend entirely on an input seed and are then generated by a deterministic algorithm from that seed. [Source](http://justinbois.github.io/bootcamp/2016/lessons/l26_random_number_generation.html)\n"
   ]
  },
  {
   "cell_type": "markdown",
   "metadata": {},
   "source": [
    "To demonstrate that random number generation is deterministic, we will explicitly seed the random number generator"
   ]
  },
  {
   "cell_type": "code",
   "execution_count": 16,
   "metadata": {},
   "outputs": [
    {
     "data": {
      "text/plain": [
       "array([ 0.87012414,  0.58227693,  0.27883894,  0.18591123,  0.41110013])"
      ]
     },
     "execution_count": 16,
     "metadata": {},
     "output_type": "execute_result"
    }
   ],
   "source": [
    "# Seed the RNG\n",
    "np.random.seed(25)\n",
    "\n",
    "# Generate random numbers\n",
    "np.random.random(size=5)"
   ]
  },
  {
   "cell_type": "code",
   "execution_count": 17,
   "metadata": {},
   "outputs": [
    {
     "data": {
      "text/plain": [
       "array([ 0.87012414,  0.58227693,  0.27883894,  0.18591123,  0.41110013])"
      ]
     },
     "execution_count": 17,
     "metadata": {},
     "output_type": "execute_result"
    }
   ],
   "source": [
    "# Re-seed the RNG\n",
    "np.random.seed(25)\n",
    "\n",
    "# Generate random numbers\n",
    "np.random.random(size=5)"
   ]
  },
  {
   "cell_type": "markdown",
   "metadata": {},
   "source": [
    "The random numbers are exactly the same. If we choose a different seed, we get totally different random numbers."
   ]
  },
  {
   "cell_type": "markdown",
   "metadata": {},
   "source": [
    "\n",
    "[URL](http://cs231n.github.io/python-numpy-tutorial/)"
   ]
  },
  {
   "cell_type": "markdown",
   "metadata": {
    "collapsed": true
   },
   "source": [
    "NOTES:\n",
    "\n",
    "One of the most important applications of the uniform distribution is in the generation of random numbers. That is, almost all random number generators generate random numbers on the (0,1) interval. For other distributions, some transformation is applied to the uniform random numbers."
   ]
  },
  {
   "cell_type": "code",
   "execution_count": null,
   "metadata": {
    "collapsed": true
   },
   "outputs": [],
   "source": []
  }
 ],
 "metadata": {
  "kernelspec": {
   "display_name": "Python 3",
   "language": "python",
   "name": "python3"
  },
  "language_info": {
   "codemirror_mode": {
    "name": "ipython",
    "version": 3
   },
   "file_extension": ".py",
   "mimetype": "text/x-python",
   "name": "python",
   "nbconvert_exporter": "python",
   "pygments_lexer": "ipython3",
   "version": "3.6.6"
  }
 },
 "nbformat": 4,
 "nbformat_minor": 2
}
